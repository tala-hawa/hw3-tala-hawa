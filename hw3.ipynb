{
 "cells": [
  {
   "cell_type": "markdown",
   "metadata": {
    "id": "IcJ2bbjQ8PIN"
   },
   "source": [
    "# MAE6292 - Homework \\# 3\n",
    "\n",
    "Calibration with DLT and 3D scene construction"
   ]
  },
  {
   "cell_type": "markdown",
   "metadata": {
    "id": "LvmSursi-GdP"
   },
   "source": [
    "## Import Modules\n",
    "\n"
   ]
  },
  {
   "cell_type": "code",
   "execution_count": 1,
   "metadata": {},
   "outputs": [
    {
     "name": "stdout",
     "output_type": "stream",
     "text": [
      "Requirement already satisfied: opencv-python in /opt/conda/lib/python3.11/site-packages (4.9.0.80)\n",
      "Requirement already satisfied: numpy>=1.21.2 in /opt/conda/lib/python3.11/site-packages (from opencv-python) (1.24.4)\n",
      "Note: you may need to restart the kernel to use updated packages.\n"
     ]
    }
   ],
   "source": [
    "pip install opencv-python"
   ]
  },
  {
   "cell_type": "code",
   "execution_count": 2,
   "metadata": {
    "executionInfo": {
     "elapsed": 1047,
     "status": "ok",
     "timestamp": 1611068350100,
     "user": {
      "displayName": "Taeyoung Lee",
      "photoUrl": "",
      "userId": "07906618747313337531"
     },
     "user_tz": 300
    },
    "id": "o3eOxpLx7zs2"
   },
   "outputs": [],
   "source": [
    "import numpy as np\n",
    "import matplotlib.pyplot as plt\n",
    "import scipy.linalg as linalg\n",
    "import cv2"
   ]
  },
  {
   "cell_type": "markdown",
   "metadata": {
    "id": "hu-p0fRiQTqL"
   },
   "source": [
    "## Jupyter Notebook / VSCode\n",
    "\n",
    "It turns out that `cv2.imshow()` does not work in Jupter Notebook as well. You may use the follwing function `cv2_imshow` instead. \n",
    "\n",
    "Also, we are importing tools developed in class as `mae6292` module."
   ]
  },
  {
   "cell_type": "code",
   "execution_count": 3,
   "metadata": {},
   "outputs": [],
   "source": [
    "#from mae6292.imshow import cv2_imshow\n",
    "#import mae6292.tools as mae6292"
   ]
  },
  {
   "cell_type": "code",
   "execution_count": 4,
   "metadata": {
    "executionInfo": {
     "elapsed": 45720,
     "status": "ok",
     "timestamp": 1611068394796,
     "user": {
      "displayName": "Taeyoung Lee",
      "photoUrl": "",
      "userId": "07906618747313337531"
     },
     "user_tz": 300
    },
    "id": "bg_xC1p_QTqL"
   },
   "outputs": [],
   "source": [
    "# %load tools.py\n",
    "import matplotlib.pyplot as plt\n",
    "import numpy as np\n",
    "import cv2\n",
    "import scipy.linalg as linalg\n",
    "from mpl_toolkits.mplot3d import Axes3D\n",
    "from matplotlib.patches import Polygon\n",
    "from mpl_toolkits.mplot3d.art3d import Poly3DCollection\n",
    "\n",
    "class WireFrameCamera:\n",
    "    def __init__(self, width=1, height=0.8, f=0.5):\n",
    "        self.width = width\n",
    "        self.height = height\n",
    "        self.f = f\n",
    "\n",
    "        self.vertices=np.empty((3,5))\n",
    "        self.vertices[:,0]=[0, 0, 0]\n",
    "        self.vertices[:,1]=[-width/2, height/2, f]\n",
    "        self.vertices[:,2]=[width/2, height/2, f]\n",
    "        self.vertices[:,3]=[width/2, -height/2, f]\n",
    "        self.vertices[:,4]=[-width/2, -height/2, f]\n",
    "\n",
    "        self.edges=[(0,1), (0,2), (0,3), (0,4), (1,2), (2,3), (3,4), (4,1)]\n",
    "\n",
    "    def draw(self, R, T):\n",
    "        vertices_W = np.empty((3,5))\n",
    "        vertices_W = R.T@(self.vertices - T@np.ones((1,5)))\n",
    "\n",
    "        fig = plt.figure(dpi=150)\n",
    "        # ax = fig.gca(projection='3d') depreciated \n",
    "        ax = fig.add_subplot(projection='3d')\n",
    "\n",
    "        for edge in self.edges:\n",
    "            plt.plot(vertices_W[0,list(edge)],vertices_W[1,list(edge)],vertices_W[2,list(edge)],'b',linewidth=0.5)\n",
    "\n",
    "        return fig, ax\n",
    "\n",
    "class ChessBoard:\n",
    "    faces=[(0,1,2,3)]\n",
    "    square_vertices = np.zeros((3, 4))\n",
    "    square_vertices[:,0] = [0,0,0]\n",
    "    square_vertices[:,1] = [1,0,0]\n",
    "    square_vertices[:,2] = [1,1,0]\n",
    "    square_vertices[:,3] = [0,1,0]\n",
    "\n",
    "    def __init__(self, CHECKER=(8,6), origin=(0.0)):\n",
    "        self.origin = origin\n",
    "        self.CHECKER = CHECKER\n",
    "\n",
    "    def draw(self, ax):\n",
    "        for i in range(self.CHECKER[0]+1):\n",
    "            for j in range(self.CHECKER[1]+1):\n",
    "                square_vertices_shifted = self.square_vertices + np.array([[i+self.origin[0],j+self.origin[1],0]]).T*np.ones((1,4))\n",
    "\n",
    "                patch = [[tuple(square_vertices_shifted[:,self.faces[0][i]]) for i in range(len(self.faces[0]))]]\n",
    "                patch_collection = Poly3DCollection(patch, alpha =0.5)\n",
    "                if (i+j) % 2 == 1:\n",
    "                    patch_collection.set_color('w')\n",
    "                else:\n",
    "                    patch_collection.set_color('k')\n",
    "\n",
    "                    ax.add_collection3d(patch_collection)\n",
    "\n",
    "def calibrateCamera_Tsai(p, P):\n",
    "    # p : homogeneous coordinates of pixel in the image frame\n",
    "    # P : homogeneous coordinates of points in the world frame\n",
    "    assert p.shape[0] == 3, \"p : homogeneous coordinates of pixel in the image frame of 3 by n\"\n",
    "    assert P.shape[0] == 4, \"P : homogeneous coordinates of points in the world frame\"\n",
    "    assert p.shape[1] == P.shape[1], \"number of columns of p shold match with P\"\n",
    "\n",
    "    n = p.shape[1]\n",
    "    p_uv = p[0:2,:]/p[2,:]\n",
    "\n",
    "    Q = np.empty((0, 12))\n",
    "    for i in range(n):\n",
    "        Qi_0 = np.array([ [1,0, -p_uv[0,i]], [0, 1, -p_uv[1,i]]] )\n",
    "        Qi = np.kron(Qi_0, P[:,i].T)\n",
    "        Q = np.append(Q, Qi, axis=0)\n",
    "\n",
    "    # 1. Find M_tilde using SVD\n",
    "\n",
    "    U, S, VT = linalg.svd(Q)\n",
    "    M_tilde = VT.T[:,-1].reshape(3,4)\n",
    "    # print(M_tilde /M_cv) # M is determined up to scale\n",
    "\n",
    "    # 2. RQ factorization to find K_tilde and R\n",
    "\n",
    "    K_tilde, R = linalg.rq(M_tilde [:,0:3])\n",
    "\n",
    "    # 3. Resolve the ambiguity of RQ factorization\n",
    "    D = np.diag( np.sign(np.diag(K_tilde)) )\n",
    "    K_tilde  = K_tilde@D\n",
    "    R = D@R\n",
    "\n",
    "    # 4. Find T\n",
    "    T = linalg.solve(K_tilde, M_tilde[:,-1]).reshape(3,1)\n",
    "\n",
    "    # 5. Recover scale\n",
    "\n",
    "    s = 1/K_tilde[2,2]\n",
    "    K = s*K_tilde\n",
    "    M = s*M_tilde\n",
    "\n",
    "    # 6. Resolve sign ambiguity\n",
    "    if linalg.det(R) < 0:\n",
    "        R = -R\n",
    "        T = -T\n",
    "        M = -M\n",
    "\n",
    "\n",
    "    return K, R, T, M\n"
   ]
  },
  {
   "cell_type": "code",
   "execution_count": 5,
   "metadata": {},
   "outputs": [],
   "source": [
    "# %load imshow.py\n",
    "import matplotlib.pyplot as plt\n",
    "import numpy as np\n",
    "import cv2\n",
    "\n",
    "def cv2_imshow(image):\n",
    "    # developed by Kanishke Gamagedara, udpated by MAE6292\n",
    "    plt.figure(dpi=200)\n",
    "    mode = len(np.shape(image))\n",
    "    if mode==3:\n",
    "        plt.imshow(cv2.cvtColor(image, cv2.COLOR_BGR2RGB))\n",
    "    elif mode==2:\n",
    "        plt.imshow(image, cmap='gray')\n",
    "    else:\n",
    "        print('Unsuported image size')\n",
    "    plt.xticks([]), plt.yticks([])\n",
    "    plt.axis('off')\n",
    "\n"
   ]
  },
  {
   "cell_type": "markdown",
   "metadata": {
    "id": "BTBIK24gARwZ"
   },
   "source": [
    "## Getting Data From HW#2\n",
    "\n",
    "In HW#2, we made a virtual cube on the photo image as follows.\n",
    "\n",
    "![](./img_cube.png)\n",
    "\n",
    "First, we have to load several variables from HW#2. \n",
    "\n",
    "1. Append your HW2 with the following code to create a data file, `HW2.npz` that containts the listed variables. \n",
    "\n",
    "`np.savez('HW2.npz', P = vertices, p = M@vertices, K_cv = K, R_cv = R, T_cv = T, M_cv=M)`\n",
    "\n",
    "2. Copy the data file `HW2.npz` to the current folder of HW3.\n",
    "\n",
    "3. Excute the following code to load variables from the data file. "
   ]
  },
  {
   "cell_type": "code",
   "execution_count": 6,
   "metadata": {},
   "outputs": [
    {
     "name": "stdout",
     "output_type": "stream",
     "text": [
      "K_cv =  [[1.04100e+03 0.00000e+00 5.08037e+02]\n",
      " [0.00000e+00 9.78425e+02 3.06480e+02]\n",
      " [0.00000e+00 0.00000e+00 1.00000e+00]]\n",
      "R_cv =  [[ 0.96978 -0.10385  0.22079]\n",
      " [-0.08634  0.70029  0.70862]\n",
      " [-0.22821 -0.70626  0.67016]]\n",
      "T_cv =  [[-2.11136]\n",
      " [-1.65812]\n",
      " [11.05752]]\n",
      "M_cv =  [[ 8.93594e+02 -4.66920e+02  5.70311e+02  3.41971e+03]\n",
      " [-1.54420e+02  4.68726e+02  8.98719e+02  1.76656e+03]\n",
      " [-2.28213e-01 -7.06263e-01  6.70158e-01  1.10575e+01]]\n"
     ]
    }
   ],
   "source": [
    "np.set_printoptions(precision=5)\n",
    "\n",
    "with np.load('HW2.npz') as data:\n",
    "    P = data['P']\n",
    "    P = P.T\n",
    "    p = data['p']\n",
    "    K_cv = data['K_cv']\n",
    "    R_cv = data['R_cv']\n",
    "    T_cv = data['T_cv']\n",
    "    M_cv = data['M_cv']\n",
    "\n",
    "#print(P.T)\n",
    "print('K_cv = ',K_cv)\n",
    "print('R_cv = ',R_cv)\n",
    "print('T_cv = ',T_cv)\n",
    "print('M_cv = ',M_cv)"
   ]
  },
  {
   "cell_type": "markdown",
   "metadata": {},
   "source": [
    "## Problem 1 (DLT)\n",
    "\n",
    "In this part, \n",
    "\n",
    "1. Using `K, R, T, M = mae6292.calibrateCamera_Tsai(p, P)` calibrate the camera according to Tsai's method.\n",
    "\n",
    "2. Print `K, R, T, M` and make it sure that they are consistent with the above values computed by OpenCV.\n",
    "\n",
    "3. Using [scipy.linalg.norm()](https://docs.scipy.org/doc/scipy/reference/generated/scipy.linalg.norm.html), compute $\\|K-K_{cv}\\|$, $\\|R-R_{cv}\\|$, $\\|T-T_{cv}\\|$, and $\\|M-M_{cv}\\|$, and print.\n"
   ]
  },
  {
   "cell_type": "code",
   "execution_count": 7,
   "metadata": {},
   "outputs": [
    {
     "name": "stdout",
     "output_type": "stream",
     "text": [
      "K = [[ 1.04100e+03 -5.44370e-11  5.08037e+02]\n",
      " [ 0.00000e+00  9.78425e+02  3.06480e+02]\n",
      " [ 0.00000e+00  0.00000e+00  1.00000e+00]]\n",
      "\n",
      "R = [[ 0.96978 -0.10385  0.22079]\n",
      " [-0.08634  0.70029  0.70862]\n",
      " [-0.22821 -0.70626  0.67016]]\n",
      "\n",
      "T = [[-2.11136]\n",
      " [-1.65812]\n",
      " [11.05752]]\n",
      "\n",
      "M = [[ 8.93594e+02 -4.66920e+02  5.70311e+02  3.41971e+03]\n",
      " [-1.54420e+02  4.68726e+02  8.98719e+02  1.76656e+03]\n",
      " [-2.28213e-01 -7.06263e-01  6.70158e-01  1.10575e+01]]\n",
      "\n",
      "\n",
      "|K - K_cv|= 7.652090198574414e-10\n",
      "|R - R_cv|= 6.064467649740775e-13\n",
      "|T - T_cv|= 6.28812797256199e-12\n",
      "|M - M_cv|= 1.113643255479052e-09\n"
     ]
    }
   ],
   "source": [
    "# 1. compute K, R, T, M\n",
    "K,R,T,M = calibrateCamera_Tsai(p, P) #used P.T to ensure that it has 4 rows !!!! it should not affect p because I already made the change when I created HW@.npz for p=M@vertices.T\n",
    "\n",
    "# 2. print K, R, T, M\n",
    "print('K =', K)\n",
    "print('\\nR =', R)\n",
    "print('\\nT =', T)\n",
    "print('\\nM =', M)\n",
    "print('\\n')\n",
    "\n",
    "# 3. compute and print errors\n",
    "from scipy.linalg import norm\n",
    "K_err = norm(K-K_cv) \n",
    "R_err = norm(R-R_cv)\n",
    "T_err = norm(T-T_cv)\n",
    "M_err = norm(M-M_cv)\n",
    "\n",
    "print('|K - K_cv|=', K_err)\n",
    "print('|R - R_cv|=', R_err)\n",
    "print('|T - T_cv|=', T_err)\n",
    "print('|M - M_cv|=', M_err)"
   ]
  },
  {
   "cell_type": "markdown",
   "metadata": {},
   "source": [
    "## Problem 2 (3D Scene Construction)\n",
    "\n",
    "1. The following codes generate a wireframe camera at the pose `(R,T)` defined above. You may need to adjust the axis limits at the following lines. \n",
    "\n",
    "```\n",
    "ax.axes.set_xlim3d(left=-2, right=10)\n",
    "ax.axes.set_ylim3d(bottom=-2, top=6) \n",
    "ax.axes.set_zlim3d(bottom=0, top=-6)\n",
    "```\n",
    "\n",
    "2. Using the following command generate the checker board \n",
    "\n",
    "```\n",
    "cb = mae6292.ChessBoard( (CHECKER_ROW, CHECKER_COL), (x of upper-left corner, y of upper left corner) )``\n",
    "cb.draw(ax)\n",
    "```\n",
    "\n",
    "See the example in [https://github.com/GW-MAE6292/python_examples/tree/main/DLT](https://github.com/GW-MAE6292/python_examples/tree/main/DLT)\n",
    "\n",
    "3. In the above, the homogeneous coordinates of the vertices of the cube in the world frame are stored in the 4 by 8 np.array `P`. Convert it into the 3 by 8 np.array `P_W` of the world coordinates.\n",
    "\n",
    "\n",
    "4. Read [3D line plot in python](https://medium.com/@rohitadnaik/3d-line-plot-in-python-2fbeca99b9ba). \n",
    "\n",
    "For example, the following command generate a line from $(0,0,0)$ to $(0,0,-1)$.\n",
    "\n",
    "```\n",
    "ax.plot([0, 0], [0, 0], [0, -1],'r',linewidth=1)\n",
    "```\n",
    "Draw a 3D wire-frame cube using `P_W` and the above command.\n",
    "\n",
    "5. Save the image as `prob2.png` using\n",
    "\n",
    "```\n",
    "plt.savefig('prob2.png')\n",
    "```\n",
    "\n",
    "The end results should be similar as\n",
    "\n",
    "![](./prob2_example.png)"
   ]
  },
  {
   "cell_type": "code",
   "execution_count": 8,
   "metadata": {},
   "outputs": [
    {
     "name": "stdout",
     "output_type": "stream",
     "text": [
      "[[ 2.  3.  3.  2.  2.  3.  3.  2.]\n",
      " [ 1.  1.  2.  2.  1.  1.  2.  2.]\n",
      " [ 0.  0.  0.  0. -1. -1. -1. -1.]]\n",
      "\n",
      " [2. 3. 3. 2.]\n",
      "\n",
      " [1. 1. 2. 2. 1. 1. 2. 2.]\n",
      "\n",
      " [ 0.  0.  0.  0. -1. -1. -1. -1.]\n"
     ]
    },
    {
     "data": {
      "image/png": "[encoded data removed]",
      "text/plain": [
       "<Figure size 960x720 with 1 Axes>"
      ]
     },
     "metadata": {},
     "output_type": "display_data"
    }
   ],
   "source": [
    "# uncomment the following line for interactive view of the image\n",
    "#%matplotlib notebook\n",
    "from mpl_toolkits import mplot3d\n",
    "# 1. draw wire-frame camera\n",
    "camera = WireFrameCamera()\n",
    "fig, ax = camera.draw(R,T)\n",
    "ax.axis('equal')\n",
    "ax.set_xlabel('x')\n",
    "ax.set_ylabel('y')\n",
    "ax.set_zlabel('z')\n",
    "ax.xaxis.pane.fill = False\n",
    "ax.yaxis.pane.fill = False\n",
    "ax.zaxis.pane.fill = False\n",
    "ax.xaxis.pane.set_edgecolor('w')\n",
    "ax.yaxis.pane.set_edgecolor('w')\n",
    "ax.zaxis.pane.set_edgecolor('w')\n",
    "ax.grid(False)\n",
    "\n",
    "#  change the axis limit if needed\n",
    "ax.axes.set_xlim3d(left=-2, right=10)\n",
    "ax.axes.set_ylim3d(bottom=6, top=-2) \n",
    "ax.axes.set_zlim3d(bottom=0, top=-6) \n",
    "\n",
    "ax.elev = 23  # Elevation angle (angle above the x-y plane)\n",
    "ax.azim = 305  # Azimuth angle (angle around the z-axis)\n",
    "\n",
    "# 2. draw chess board\n",
    "cb = ChessBoard( (6, 4), (-1,-1) )\n",
    "cb.draw(ax)\n",
    "\n",
    "# 3. convert the homogeneous coordinates P into a 3X8 np.array and this draws the points\n",
    "P_W = P[0:3,:]/P[3,:]\n",
    "ax.plot(P_W[0,:],P_W[1,:],P_W[2,:],'o',markersize=2,c='r')\n",
    "\n",
    "# 4. draw wire cube\n",
    "#ax.plot([0, 0], [0, 0], [0, -1],'r',linewidth=1)\n",
    "#ax.plot(P_W[0,4:],P_W[1,4:],P_W[2,4:],'r',linewidth=1)\n",
    "#ax.plot(P_W[0,:4],P_W[1,:4],P_W[2,:4],'r',linewidth=1)\n",
    "#ax.plot([2,2],[1,1],[0,-1],'r',linewidth=1)\n",
    "\n",
    "\n",
    "vertex0 = [1,3,4]\n",
    "vertex2 = [1,3,6]\n",
    "vertex5 = [1,4,6]\n",
    "vertex7 = [3,4,6]\n",
    "\n",
    "for i in vertex0:\n",
    "    ax.plot([P_W[0,0],P_W[0,i]],[P_W[1,0],P_W[1,i]],[P_W[2,0],P_W[2,i]],'r')\n",
    "    for j in vertex2:\n",
    "        ax.plot([P_W[0,2],P_W[0,j]],[P_W[1,2],P_W[1,j]],[P_W[2,2],P_W[2,j]],'b')\n",
    "        for k in vertex5:\n",
    "            ax.plot([P_W[0,5],P_W[0,k]],[P_W[1,5],P_W[1,k]],[P_W[2,5],P_W[2,k]],'c')\n",
    "            for z in vertex7:\n",
    "                ax.plot([P_W[0,7],P_W[0,z]],[P_W[1,7],P_W[1,z]],[P_W[2,7],P_W[2,z]],'m')\n",
    "\n",
    "# 5. save \n",
    "plt.savefig('prob2.png')\n",
    "print(P[0:3,:]/P[3,:])\n",
    "print('\\n',P_W[0,4:])\n",
    "print('\\n',P_W[1,:])\n",
    "print('\\n',P_W[2,:])"
   ]
  },
  {
   "cell_type": "markdown",
   "metadata": {},
   "source": [
    "## How to Turn in\n",
    "\n",
    "Make it sure you add the following files to the repository before pusing it back to github.\n",
    "1. prob2.png\n"
   ]
  },
  {
   "cell_type": "code",
   "execution_count": null,
   "metadata": {},
   "outputs": [],
   "source": []
  }
 ],
 "metadata": {
  "colab": {
   "collapsed_sections": [],
   "name": "hw2_sol.ipynb",
   "provenance": []
  },
  "kernelspec": {
   "display_name": "Python 3 (ipykernel)",
   "language": "python",
   "name": "python3"
  },
  "language_info": {
   "codemirror_mode": {
    "name": "ipython",
    "version": 3
   },
   "file_extension": ".py",
   "mimetype": "text/x-python",
   "name": "python",
   "nbconvert_exporter": "python",
   "pygments_lexer": "ipython3",
   "version": "3.11.6"
  }
 },
 "nbformat": 4,
 "nbformat_minor": 4
}
